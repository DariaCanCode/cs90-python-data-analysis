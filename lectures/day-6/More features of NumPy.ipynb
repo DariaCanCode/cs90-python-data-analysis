{
 "cells": [
  {
   "cell_type": "markdown",
   "metadata": {},
   "source": [
    "# More NumPy Features"
   ]
  },
  {
   "cell_type": "code",
   "execution_count": 2,
   "metadata": {},
   "outputs": [],
   "source": [
    "import numpy as np"
   ]
  },
  {
   "cell_type": "markdown",
   "metadata": {},
   "source": [
    "## Assignment with slicing\n",
    "\n",
    "You can use the slice syntax that we used before to get 'slices' of a list or array in order to actually assign new elements to those spots."
   ]
  },
  {
   "cell_type": "code",
   "execution_count": 14,
   "metadata": {},
   "outputs": [],
   "source": [
    "# create two numpy arrays, one 3x3, one 2x2\n",
    "a = np.array([\n",
    "    [1, 2, 3],\n",
    "    [4, 5, 6],\n",
    "    [7, 8, 9]\n",
    "])\n",
    "\n",
    "b = np.array([\n",
    "    [10, 11],\n",
    "    [12, 13]\n",
    "])"
   ]
  },
  {
   "cell_type": "code",
   "execution_count": 15,
   "metadata": {},
   "outputs": [],
   "source": [
    "# use slicing to make the first 2 rows of a all 7s\n",
    "a[:2] = 7"
   ]
  },
  {
   "cell_type": "code",
   "execution_count": 16,
   "metadata": {},
   "outputs": [
    {
     "name": "stdout",
     "output_type": "stream",
     "text": [
      "[[7 7 7]\n",
      " [7 7 7]\n",
      " [7 8 9]]\n"
     ]
    }
   ],
   "source": [
    "print(a)"
   ]
  },
  {
   "cell_type": "code",
   "execution_count": 11,
   "metadata": {},
   "outputs": [
    {
     "name": "stdout",
     "output_type": "stream",
     "text": [
      "[7, 7, 3, 4, 5]\n"
     ]
    }
   ],
   "source": [
    "# Slicing assignment actually also works with basic python lists:\n",
    "l = [1, 2, 3, 4, 5]\n",
    "# This works:\n",
    "l[:2] = [7, 7]\n",
    "print(l)"
   ]
  },
  {
   "cell_type": "code",
   "execution_count": 12,
   "metadata": {},
   "outputs": [
    {
     "name": "stdout",
     "output_type": "stream",
     "text": [
      "[7, 7, 3, 8, 7, 6, 5]\n"
     ]
    }
   ],
   "source": [
    "# BUT, with standard python lists, what it ACTUALLY does is cuts out the old slice,\n",
    "# and puts the new list in its place.\n",
    "# example: starting at index 3, cut out everything after it, and insert a new list in its place\n",
    "l[3:] = [8, 7, 6, 5]\n",
    "print(l)"
   ]
  },
  {
   "cell_type": "code",
   "execution_count": 17,
   "metadata": {},
   "outputs": [
    {
     "name": "stdout",
     "output_type": "stream",
     "text": [
      "[[10 11  7]\n",
      " [12 13  7]\n",
      " [ 7  8  9]]\n"
     ]
    }
   ],
   "source": [
    "# As you can see, the slice assignment for numpy arrays and python lists look similar,\n",
    "# but they DO NOT do the exact same thing.\n",
    "# with numpy arrays, the slice assignment will only change the values in the slices,\n",
    "# while with python lists, it will CUT OUT the slice and put a new list in its place.\n",
    "\n",
    "# Also, if you want to edit a 2D array, it's hard to do with lists, but easy with numpy arrays\n",
    "# Example: 'paste' b into the first 2x2 section in a.\n",
    "a[:2,:2] = b\n",
    "print(a)"
   ]
  },
  {
   "cell_type": "code",
   "execution_count": 18,
   "metadata": {},
   "outputs": [],
   "source": [
    "# This is extremely powerful, allowing you to edit entire chunks of arrays very easily."
   ]
  },
  {
   "cell_type": "markdown",
   "metadata": {},
   "source": [
    "## Reshaping NumPy arrays\n",
    "\n",
    "We are going to list three main ways to reshape numpy arrays. We've talked about the 'reshape' and 'resize' methods in class, but there's also the 'ravel' method, which comes in handy sometimes."
   ]
  },
  {
   "cell_type": "code",
   "execution_count": 19,
   "metadata": {},
   "outputs": [
    {
     "name": "stdout",
     "output_type": "stream",
     "text": [
      "[ 0  1  2  3  4  5  6  7  8  9 10 11]\n"
     ]
    }
   ],
   "source": [
    "# let's have a 1D array of integers with length 12\n",
    "n = np.arange(12)\n",
    "print(n)"
   ]
  },
  {
   "cell_type": "code",
   "execution_count": 24,
   "metadata": {},
   "outputs": [],
   "source": [
    "# reshape:\n",
    "# the reshape function will create a new array with the given shape.\n",
    "# NOTE that it expects that the shape you give it will exactly match\n",
    "# the total size of the old array, otherwise it will give an error, as we have seen in class.\n",
    "n2 = n.reshape(4,3)\n",
    "# print(n2)"
   ]
  },
  {
   "cell_type": "code",
   "execution_count": 31,
   "metadata": {},
   "outputs": [
    {
     "name": "stdout",
     "output_type": "stream",
     "text": [
      "[[ 0  1]\n",
      " [ 2  3]\n",
      " [ 4  5]\n",
      " [ 6  7]\n",
      " [ 8  9]\n",
      " [10 11]\n",
      " [ 0  0]]\n"
     ]
    }
   ],
   "source": [
    "# resize:\n",
    "# the resize method actually changes the ORIGINAL array, instead of creating a new one\n",
    "# it is also different from reshape because it does not give any errors\n",
    "# if the new shape doesn't match the size of the old one.\n",
    "# If the new shape is bigger, it will simply add zeros to fill the rest,\n",
    "# and if the new shape is smaller, it will leave some of the original values out.\n",
    "\n",
    "# NOTE: resizing an array that is referenced somewhere else might give an error,\n",
    "# so we can pass in the argument refcheck=False to prevent that error\n",
    "n.resize((7,2), refcheck=False)\n",
    "print(n)"
   ]
  },
  {
   "cell_type": "code",
   "execution_count": 33,
   "metadata": {},
   "outputs": [
    {
     "name": "stdout",
     "output_type": "stream",
     "text": [
      "[ 0  1  2  3  4  5  6  7  8  9 10 11  0  0]\n"
     ]
    }
   ],
   "source": [
    "# ravel:\n",
    "# the ravel function simply unwraps a multi-dimensional array into 1D\n",
    "# So it's like reshape, but only to turn an array 1D,\n",
    "# and with the added convenience of not having to know the exact shape beforehand.\n",
    "n = n.ravel()\n",
    "print(n)"
   ]
  },
  {
   "cell_type": "markdown",
   "metadata": {},
   "source": [
    "## Combining arrays\n",
    "\n",
    "NumPy has many, many methods for combining arrays, but we'll just look at 2: append and concatenate."
   ]
  },
  {
   "cell_type": "code",
   "execution_count": 36,
   "metadata": {},
   "outputs": [
    {
     "name": "stdout",
     "output_type": "stream",
     "text": [
      "[ 9 10 11 12 13 14 15]\n"
     ]
    }
   ],
   "source": [
    "# append:\n",
    "# the append method simply inserts a bunch of values at the end of an array.\n",
    "m = np.array([9, 10, 11, 12])\n",
    "m = np.append(m, [13, 14, 15])\n",
    "print(m)"
   ]
  },
  {
   "cell_type": "code",
   "execution_count": 39,
   "metadata": {},
   "outputs": [
    {
     "name": "stdout",
     "output_type": "stream",
     "text": [
      "[[1 2 3]\n",
      " [4 5 6]\n",
      " [7 8 9]]\n"
     ]
    }
   ],
   "source": [
    "# concatenate:\n",
    "# the concatenate method takes a list of numpy arrays and tries to attach them together\n",
    "# By default, it combines arrays row-wise:\n",
    "x1 = np.array([\n",
    "    [1, 2, 3],\n",
    "    [4, 5, 6]\n",
    "])\n",
    "x2 = np.array([\n",
    "    [7, 8, 9]\n",
    "])\n",
    "x = np.concatenate([x1, x2])\n",
    "print(x)"
   ]
  },
  {
   "cell_type": "code",
   "execution_count": 40,
   "metadata": {},
   "outputs": [
    {
     "name": "stdout",
     "output_type": "stream",
     "text": [
      "[[10 11  7  1  2  3]\n",
      " [12 13  7  4  5  6]\n",
      " [ 7  8  9  7  8  9]]\n"
     ]
    }
   ],
   "source": [
    "# but, if you give concatenate the argument axis=1,\n",
    "# it will try to combine them column-wise (e.g. side to side)\n",
    "# Example: combine our new x 2D array with our old 2D array a, side by side\n",
    "ax = np.concatenate([a,x], axis=1)\n",
    "print(ax)"
   ]
  },
  {
   "cell_type": "markdown",
   "metadata": {},
   "source": [
    "## I/O: saving and loading numpy arrays from files\n",
    "\n",
    "In order to make it easy to store a numpy array for later use, numpy gives some built in functions to easily save an array or multiple arrays to a file, and then read them from the file."
   ]
  },
  {
   "cell_type": "code",
   "execution_count": 41,
   "metadata": {},
   "outputs": [],
   "source": [
    "# saving a single array to a file:\n",
    "# note: the .npy file extension is a convention indicating that this file has a numpy array in it.\n",
    "a1 = np.array([1,2,3])\n",
    "np.save('myarray.npy', a1)"
   ]
  },
  {
   "cell_type": "code",
   "execution_count": 42,
   "metadata": {},
   "outputs": [
    {
     "name": "stdout",
     "output_type": "stream",
     "text": [
      "[1 2 3]\n"
     ]
    }
   ],
   "source": [
    "# loading an array from a file:\n",
    "a1 = np.load('myarray.npy')\n",
    "print(a1)"
   ]
  },
  {
   "cell_type": "code",
   "execution_count": 43,
   "metadata": {},
   "outputs": [],
   "source": [
    "# saving multiple arrays to a file:\n",
    "a2 = np.array([4,5,6])\n",
    "a3 = np.array([7,8,9])\n",
    "np.savez('more_arrayz.npz', a2, a3)"
   ]
  },
  {
   "cell_type": "code",
   "execution_count": 45,
   "metadata": {},
   "outputs": [
    {
     "name": "stdout",
     "output_type": "stream",
     "text": [
      "<numpy.lib.npyio.NpzFile object at 0x000001B57F100E48>\n"
     ]
    }
   ],
   "source": [
    "# loading multiple arrays:\n",
    "arrs = np.load('more_arrayz.npz')\n",
    "print(arrs)"
   ]
  },
  {
   "cell_type": "code",
   "execution_count": 50,
   "metadata": {},
   "outputs": [
    {
     "name": "stdout",
     "output_type": "stream",
     "text": [
      "[4 5 6]\n"
     ]
    }
   ],
   "source": [
    "# this will give you a NpzFile object, which isn't directly useful.\n",
    "# To get one array, use the index syntax [] on it and give the array name.\n",
    "# The arrays are named 'arr_0', 'arr_1', etc., in the order you saved them.\n",
    "a2 = arrs['arr_0']\n",
    "print(a2)"
   ]
  },
  {
   "cell_type": "code",
   "execution_count": 51,
   "metadata": {},
   "outputs": [],
   "source": [
    "# You can also choose to give your own names to the saved arrays when calling the savez function\n",
    "# Use keyword arguments, the name you give the array will be what it's called when you load it\n",
    "# Example: here, we are calling a2 'x', and a3 'y'\n",
    "np.savez('keyword_arrayz.npz', x=a2, y=a3)"
   ]
  },
  {
   "cell_type": "code",
   "execution_count": 52,
   "metadata": {},
   "outputs": [
    {
     "name": "stdout",
     "output_type": "stream",
     "text": [
      "[4 5 6]\n"
     ]
    }
   ],
   "source": [
    "# Now, when you load the file, you can use the names you gave it instead of 'arr_0', etc.\n",
    "arrs = np.load('keyword_arrayz.npz')\n",
    "print(arrs['x'])"
   ]
  },
  {
   "cell_type": "code",
   "execution_count": null,
   "metadata": {},
   "outputs": [],
   "source": []
  }
 ],
 "metadata": {
  "kernelspec": {
   "display_name": "Python 3",
   "language": "python",
   "name": "python3"
  },
  "language_info": {
   "codemirror_mode": {
    "name": "ipython",
    "version": 3
   },
   "file_extension": ".py",
   "mimetype": "text/x-python",
   "name": "python",
   "nbconvert_exporter": "python",
   "pygments_lexer": "ipython3",
   "version": "3.6.5"
  }
 },
 "nbformat": 4,
 "nbformat_minor": 2
}
