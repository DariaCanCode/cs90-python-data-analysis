{
 "cells": [
  {
   "cell_type": "markdown",
   "metadata": {},
   "source": [
    "# Conditionals and Filtering"
   ]
  },
  {
   "cell_type": "markdown",
   "metadata": {},
   "source": [
    "## String Formatting"
   ]
  },
  {
   "cell_type": "code",
   "execution_count": 11,
   "metadata": {},
   "outputs": [
    {
     "name": "stdout",
     "output_type": "stream",
     "text": [
      "My number is 5.\n",
      "My number is 5.\n",
      "My number is 5.\n",
      "My number is 5.\n",
      "My number is 5.\n"
     ]
    }
   ],
   "source": [
    "# String formatting means putting variable data inside a string, usually for printing the string to console.\n",
    "\n",
    "# let's say we have a variable i = 5, and we want to print the string: \"My number is 5.\", where 5 is the value of i\n",
    "# but we can't just write print(\"My number is 5\"), because if i changes, that string will be incorrect\n",
    "# How do we 'put' i into the string?\n",
    "i = 5\n",
    "\n",
    "# here are all the possible ways in Python, starting from the ugliest and least elegant way to the best way.\n",
    "\n",
    "# Way 1: concatenation\n",
    "print(\"My number is \" + str(i) + \".\")\n",
    "\n",
    "# Way 2: % (percent) formatting\n",
    "print(\"My number is %s.\" % (i))\n",
    "\n",
    "# Way 3: the .format method\n",
    "print(\"My number is {}.\".format(i))\n",
    "\n",
    "# Way 4: the .format method with keys\n",
    "print(\"My number is {i}.\".format(i = i))\n",
    "\n",
    "# Way 5: (the best way) format strings (called f-strings for short)\n",
    "print(f\"My number is {i}.\")"
   ]
  },
  {
   "cell_type": "markdown",
   "metadata": {},
   "source": [
    "## Conditionals"
   ]
  },
  {
   "cell_type": "code",
   "execution_count": 12,
   "metadata": {},
   "outputs": [
    {
     "name": "stdout",
     "output_type": "stream",
     "text": [
      "5 is less than 10\n",
      "15 is greater than 10\n"
     ]
    }
   ],
   "source": [
    "# Conditional statements allow you to execute code only if a certain condition is met\n",
    "# This lets you introduce human-like \"logic\" into your programs:\n",
    "# you can tell Python: do this if this happens, but otherwise do something else\n",
    "\n",
    "# Example:\n",
    "x = 5\n",
    "if (x < 10):\n",
    "    print(f\"{x} is less than 10\")\n",
    "\n",
    "x = 15\n",
    "# You can add 'else' to do something else, if the condition is not met\n",
    "if (x < 10):\n",
    "    print(f\"{x} is less than 10\")\n",
    "else:\n",
    "    print(f\"{x} is greater than 10\")\n",
    "\n",
    "# using 'elif', short for 'else if', you can add as many branches as you want\n",
    "if (x < 10):\n",
    "    print(f\"{x} is less than 10\")\n",
    "elif (x <= 15):\n",
    "    print(f\"{x} is less than or equal to 15\")\n",
    "else:\n",
    "    print(f\"{x} is greater than 15\")\n",
    "\n",
    "# When comparing numbers, these are the most common conditional operators:\n",
    "# == (equals)    != (does not equal)    < (less than)    > (greater than)    <= (less than or equal to)    >= (greater than or equal to)\n",
    "\n",
    "# if you want the OPPOSITE of a certain condition, you can put the 'bang' operator ! in front\n",
    "# Example:\n",
    "if (!(x < 5)):\n",
    "    print(f\"{x} is NOT less than 5\")"
   ]
  },
  {
   "cell_type": "markdown",
   "metadata": {},
   "source": [
    "## Filtering"
   ]
  },
  {
   "cell_type": "code",
   "execution_count": 24,
   "metadata": {},
   "outputs": [
    {
     "name": "stdout",
     "output_type": "stream",
     "text": [
      "[0, 2, 4, 6, 8]\n",
      "['even', 'odd', 'even', 'odd', 'even', 'odd', 'even', 'odd', 'even', 'odd']\n"
     ]
    }
   ],
   "source": [
    "# We learned about list comprehensions, where you can transform one list into another,\n",
    "# and do whatever you want to each element in the list\n",
    "\n",
    "# What if you don't want ALL the elements in the original list, and want to leave some out?\n",
    "# we can use an if statement inside a list comprehension to 'leave out' the unwanted elements\n",
    "\n",
    "# Example: given a list of integers from 1 to 10, we only want the even ones\n",
    "l = [0,1,2,3,4,5,6,7,8,9]\n",
    "\n",
    "evens = [i for i in l if i % 2 == 0]\n",
    "print(evens)\n",
    "\n",
    "# NOTE: filtering is DIFFERENT from processing each element differently based on a condition.\n",
    "\n",
    "# Example: we want to turn the even numbers into the string \"even\", and odd numbers into \"odd\"\n",
    "m = [\"even\" if (i % 2 == 0) else \"odd\" for i in l]\n",
    "print(m)"
   ]
  },
  {
   "cell_type": "markdown",
   "metadata": {},
   "source": [
    "## Slicing"
   ]
  },
  {
   "cell_type": "code",
   "execution_count": 23,
   "metadata": {},
   "outputs": [
    {
     "name": "stdout",
     "output_type": "stream",
     "text": [
      "[0, 1, 2, 3, 4]\n",
      "[3, 4, 5, 6, 7]\n",
      "[5, 6, 7, 8, 9]\n",
      "[0, 2, 4, 6, 8]\n",
      "[2, 5, 8]\n",
      "[0, 1, 2, 3, 4, 5, 6, 7, 8, 9]\n"
     ]
    }
   ],
   "source": [
    "# Slicing refers to taking only the part of a list you want.\n",
    "# This is a very important operation when dealing with huge lists of data\n",
    "# Slicing and filtering will allow you to keep your sanity and only deal with manageable amounts of data at a time\n",
    "\n",
    "# Example:\n",
    "l = [0,1,2,3,4,5,6,7,8,9]\n",
    "\n",
    "# get only the first 5 elements:\n",
    "print(l[:5])\n",
    "\n",
    "# get elements 3 to 7:\n",
    "print(l[3:8])\n",
    "\n",
    "# get the last 5 elements:\n",
    "print(l[-5:])\n",
    "\n",
    "# get only even indices (e.g. 0, 2, 4, etc)\n",
    "print(l[::2])\n",
    "\n",
    "# get elements 2 to 9, but only every third element:\n",
    "print(l[2:10:3])\n",
    "\n",
    "# Finally, an easy way to 'copy' a list:\n",
    "m = l[::]\n",
    "print(m)"
   ]
  },
  {
   "cell_type": "markdown",
   "metadata": {},
   "source": [
    "## Cumulative List Processing"
   ]
  },
  {
   "cell_type": "code",
   "execution_count": 26,
   "metadata": {},
   "outputs": [
    {
     "name": "stdout",
     "output_type": "stream",
     "text": [
      "[0, 1, 3, 6, 10, 15, 21, 28, 36, 45]\n"
     ]
    }
   ],
   "source": [
    "# We've seen how to process an entire list of data using loops.\n",
    "\n",
    "# But in statistics and data analysis, you often want to process a list in 'chunks'\n",
    "# E.g. what's the sum of the first element, first two elements, first three, first four, etc.\n",
    "# We can do that by combining loops and slices\n",
    "\n",
    "# Example: given a list of integers, create a new list containing the cumulative sum of the integers\n",
    "# i.e. in the new list, the first element should hold the sum of the first integer,\n",
    "# the second element holds the sum of the first two integers, and so on,\n",
    "# until the last element, which holds the total sum\n",
    "l = [0,1,2,3,4,5,6,7,8,9]\n",
    "\n",
    "csums = [sum(l[0:i]) for i in range(1,len(l)+1)]\n",
    "print(csums)"
   ]
  }
 ],
 "metadata": {
  "kernelspec": {
   "display_name": "Python 3",
   "language": "python",
   "name": "python3"
  },
  "language_info": {
   "codemirror_mode": {
    "name": "ipython",
    "version": 3
   },
   "file_extension": ".py",
   "mimetype": "text/x-python",
   "name": "python",
   "nbconvert_exporter": "python",
   "pygments_lexer": "ipython3",
   "version": "3.6.5"
  }
 },
 "nbformat": 4,
 "nbformat_minor": 2
}
