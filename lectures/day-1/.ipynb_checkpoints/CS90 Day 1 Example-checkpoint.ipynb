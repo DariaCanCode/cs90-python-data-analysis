{
 "cells": [
  {
   "cell_type": "markdown",
   "metadata": {},
   "source": [
    "# Data Analysis and Visualization: EZ mode"
   ]
  },
  {
   "cell_type": "markdown",
   "metadata": {},
   "source": [
    "## Get the Data (from a server)"
   ]
  },
  {
   "cell_type": "code",
   "execution_count": 2,
   "metadata": {},
   "outputs": [],
   "source": [
    "import requests"
   ]
  },
  {
   "cell_type": "code",
   "execution_count": 3,
   "metadata": {},
   "outputs": [],
   "source": [
    "r = requests.get(\"https://pokeapi.co/api/v2/pokemon/151/\")"
   ]
  },
  {
   "cell_type": "code",
   "execution_count": 10,
   "metadata": {},
   "outputs": [],
   "source": [
    "data = r.json()"
   ]
  },
  {
   "cell_type": "code",
   "execution_count": 12,
   "metadata": {},
   "outputs": [
    {
     "data": {
      "text/plain": [
       "[{'base_stat': 100,\n",
       "  'effort': 0,\n",
       "  'stat': {'name': 'speed', 'url': 'https://pokeapi.co/api/v2/stat/6/'}},\n",
       " {'base_stat': 100,\n",
       "  'effort': 0,\n",
       "  'stat': {'name': 'special-defense',\n",
       "   'url': 'https://pokeapi.co/api/v2/stat/5/'}},\n",
       " {'base_stat': 100,\n",
       "  'effort': 0,\n",
       "  'stat': {'name': 'special-attack',\n",
       "   'url': 'https://pokeapi.co/api/v2/stat/4/'}},\n",
       " {'base_stat': 100,\n",
       "  'effort': 0,\n",
       "  'stat': {'name': 'defense', 'url': 'https://pokeapi.co/api/v2/stat/3/'}},\n",
       " {'base_stat': 100,\n",
       "  'effort': 0,\n",
       "  'stat': {'name': 'attack', 'url': 'https://pokeapi.co/api/v2/stat/2/'}},\n",
       " {'base_stat': 100,\n",
       "  'effort': 3,\n",
       "  'stat': {'name': 'hp', 'url': 'https://pokeapi.co/api/v2/stat/1/'}}]"
      ]
     },
     "execution_count": 12,
     "metadata": {},
     "output_type": "execute_result"
    }
   ],
   "source": [
    "data['stats']"
   ]
  },
  {
   "cell_type": "markdown",
   "metadata": {},
   "source": [
    "## Store the Data (JSON File)"
   ]
  },
  {
   "cell_type": "code",
   "execution_count": 17,
   "metadata": {},
   "outputs": [],
   "source": [
    "# get the data for the first 151 pokemon\n",
    "all_data = []\n",
    "for i in range(1,152):\n",
    "    r = requests.get(\"https://pokeapi.co/api/v2/pokemon/151/\")\n",
    "    data = r.json()\n",
    "    all_data.append(data)"
   ]
  },
  {
   "cell_type": "code",
   "execution_count": 19,
   "metadata": {},
   "outputs": [],
   "source": [
    "import json"
   ]
  },
  {
   "cell_type": "code",
   "execution_count": 21,
   "metadata": {},
   "outputs": [],
   "source": [
    "with open(\"./pokemon.json\", \"w\") as f:\n",
    "    json.dump(all_data, f, indent=2)"
   ]
  },
  {
   "cell_type": "code",
   "execution_count": null,
   "metadata": {},
   "outputs": [],
   "source": []
  }
 ],
 "metadata": {
  "kernelspec": {
   "display_name": "Python 3",
   "language": "python",
   "name": "python3"
  },
  "language_info": {
   "codemirror_mode": {
    "name": "ipython",
    "version": 3
   },
   "file_extension": ".py",
   "mimetype": "text/x-python",
   "name": "python",
   "nbconvert_exporter": "python",
   "pygments_lexer": "ipython3",
   "version": "3.6.5"
  }
 },
 "nbformat": 4,
 "nbformat_minor": 2
}
