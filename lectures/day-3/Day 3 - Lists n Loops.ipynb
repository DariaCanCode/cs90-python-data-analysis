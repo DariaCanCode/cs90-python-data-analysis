{
 "cells": [
  {
   "cell_type": "markdown",
   "metadata": {},
   "source": [
    "# Loops in Python"
   ]
  },
  {
   "cell_type": "markdown",
   "metadata": {},
   "source": [
    "## What is a Loop?\n",
    "\n",
    "A loop in any programming language is a special structure that is designed to repeat the code inside it multiple times.\n",
    "\n",
    "Just like functions, loops help us lazy humans program more efficiently and easily, because we don't have to repeat the same code over and over again."
   ]
  },
  {
   "cell_type": "markdown",
   "metadata": {},
   "source": [
    "## The While Loop\n",
    "\n",
    "A while loop repeats a block of code **while** a certain condition is met. For example:\n",
    "\n",
    "- Keep asking a user to input their password **while** the password is incorrect\n",
    "- Keep reading input from a file **while** there is still content left in the file\n",
    "\n",
    "The example below shows the syntax of a while loop:"
   ]
  },
  {
   "cell_type": "code",
   "execution_count": 2,
   "metadata": {},
   "outputs": [
    {
     "name": "stdout",
     "output_type": "stream",
     "text": [
      "10\n"
     ]
    }
   ],
   "source": [
    "x = 5\n",
    "\n",
    "while (x < 10):\n",
    "    x = x + 1\n",
    "    \n",
    "print(x)"
   ]
  },
  {
   "cell_type": "markdown",
   "metadata": {},
   "source": [
    "The above example initializes a variable x with a value of 5, then starts the loop:\n",
    "\n",
    "**while** the value of x is less than 10, the loop will run the code inside, which is only 1 line: `x = x + 1`\n",
    "\n",
    "This increments the value of x, 1 at a time.\n",
    "\n",
    "The loop **stops** when the value of x becomes 10, because at that point, the loop's condition, `x < 10`, is no longer satisfied."
   ]
  },
  {
   "cell_type": "markdown",
   "metadata": {},
   "source": [
    "## The For Loop\n",
    "\n",
    "When it comes to dealing with data, the loop we will use much more commonly is the **for loop**. This loop repeats a block of code **for** a certain number of times.\n",
    "\n",
    "Generally, you use a while loop when you just want to keep repeating something until a certain condition is met, and you don't know exactly when that will happen.\n",
    "\n",
    "On the other hand, you use a for loop when you know exactly how many times you will repeat something. This is usually because for loops go hand in hand with lists, which have a fixed size.\n",
    "\n",
    "Below is an example of a for loop:"
   ]
  },
  {
   "cell_type": "code",
   "execution_count": 8,
   "metadata": {
    "scrolled": true
   },
   "outputs": [
    {
     "name": "stdout",
     "output_type": "stream",
     "text": [
      "0\n",
      "1\n",
      "2\n",
      "3\n",
      "4\n"
     ]
    }
   ],
   "source": [
    "for i in range(5):\n",
    "    print(i)"
   ]
  },
  {
   "cell_type": "markdown",
   "metadata": {},
   "source": [
    "## The range (built-in) function\n",
    "\n",
    "The `range` function you see used in the above for loop is very commonly used in loops. Officially, this function returns what's called a 'generator', but for our purposes we can just assume that it returns a list.\n",
    "\n",
    "The range function returns a series of integers, based on the arguments you give it. If you give it a single number, like above, it will return all integers from 0 up to and **not** including the number.\n",
    "\n",
    "Example:\n",
    "```python\n",
    "range(5) # returns 0, 1, 2, 3, 4\n",
    "```\n",
    "\n",
    "If you give the function **two** input numbers, it will return a series of integers starting from the first input **(inclusive)** up to the second input **(exclusive)**.\n",
    "\n",
    "Example:\n",
    "```python\n",
    "range(6,10) # returns 6, 7, 8, 9\n",
    "```\n",
    "\n",
    "Finally, if you give the range function three input integers, it will treat the third integer as the **step** value, and skip that many integers every step.\n",
    "\n",
    "Example:\n",
    "```python\n",
    "range(0,10,2) # returns 0, 2, 4, 6, 8\n",
    "```"
   ]
  },
  {
   "cell_type": "markdown",
   "metadata": {},
   "source": [
    "## List Comprehension"
   ]
  },
  {
   "cell_type": "markdown",
   "metadata": {},
   "source": [
    "List comprehension is a feature unique to Python that allows you to loop through a list and perform some action on each element, returning a new list, in one convenient line of code.\n",
    "\n",
    "In the example below, we have a list of numbers, and we use list comprehension to get a new list where each of the numbers is doubled."
   ]
  },
  {
   "cell_type": "code",
   "execution_count": 2,
   "metadata": {},
   "outputs": [
    {
     "name": "stdout",
     "output_type": "stream",
     "text": [
      "[2, 4, 6, 8, 10]\n"
     ]
    }
   ],
   "source": [
    "n = [1,2,3,4,5]\n",
    "n2 = [i * 2 for i in n]\n",
    "print(n2)"
   ]
  },
  {
   "cell_type": "markdown",
   "metadata": {},
   "source": [
    "The syntax for list comprehensions is relatively simple, once you get used to it. You use the usual square brackets \\[\\], just like when creating a new list. However, instead of putting actual data into the list yourself, you use a loop to get the data from *another* list.\n",
    "\n",
    "The absolute most simple example of a list comprehension is shown below:"
   ]
  },
  {
   "cell_type": "code",
   "execution_count": 3,
   "metadata": {},
   "outputs": [
    {
     "name": "stdout",
     "output_type": "stream",
     "text": [
      "[1, 2, 3, 4, 5]\n"
     ]
    }
   ],
   "source": [
    "original = [1,2,3,4,5]\n",
    "copy = [i for i in original]\n",
    "print(copy)"
   ]
  },
  {
   "cell_type": "markdown",
   "metadata": {},
   "source": [
    "Here, we use list comprehension to simply copy each element of a list into a new one.\n",
    "\n",
    "But list comprehensions can do *much* more than that, because you can put any valid Python expression you want in that first section. We already saw the example where we doubled each element, and it's up to your creativity and intuition to see what else you can put there."
   ]
  },
  {
   "cell_type": "code",
   "execution_count": null,
   "metadata": {},
   "outputs": [],
   "source": []
  }
 ],
 "metadata": {
  "kernelspec": {
   "display_name": "Python 3",
   "language": "python",
   "name": "python3"
  },
  "language_info": {
   "codemirror_mode": {
    "name": "ipython",
    "version": 3
   },
   "file_extension": ".py",
   "mimetype": "text/x-python",
   "name": "python",
   "nbconvert_exporter": "python",
   "pygments_lexer": "ipython3",
   "version": "3.6.5"
  }
 },
 "nbformat": 4,
 "nbformat_minor": 2
}
